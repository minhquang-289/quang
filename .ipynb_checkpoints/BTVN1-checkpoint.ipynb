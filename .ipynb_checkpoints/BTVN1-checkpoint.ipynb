{
 "cells": [
  {
   "cell_type": "code",
   "execution_count": 1,
   "id": "6a37af60-c46f-45b6-a50b-f542936c7950",
   "metadata": {},
   "outputs": [
    {
     "name": "stdin",
     "output_type": "stream",
     "text": [
      " 3\n"
     ]
    },
    {
     "name": "stdout",
     "output_type": "stream",
     "text": [
      "6\n"
     ]
    }
   ],
   "source": [
    "#HW1\n",
    "a=int(input())\n",
    "so_nguyen=2*a\n",
    "print(so_nguyen)\n"
   ]
  },
  {
   "cell_type": "code",
   "execution_count": 2,
   "id": "02faa4ea-f6d4-46ff-86dc-5b4cbd66e3d8",
   "metadata": {},
   "outputs": [
    {
     "name": "stdin",
     "output_type": "stream",
     "text": [
      " 3 4\n"
     ]
    },
    {
     "name": "stdout",
     "output_type": "stream",
     "text": [
      "4.935\n"
     ]
    }
   ],
   "source": [
    "#HW2\n",
    "a,b=map(float,input().split())\n",
    "dien_tich=a*b-(a/2)*(a/2)*3.14\n",
    "round(dien_tich,2)\n",
    "print(dien_tich)"
   ]
  },
  {
   "cell_type": "code",
   "execution_count": 9,
   "id": "9843ce8c-0026-46e6-b2f2-9248d5f21290",
   "metadata": {},
   "outputs": [
    {
     "name": "stdin",
     "output_type": "stream",
     "text": [
      "Hay nhap vao mot kitu: a\n"
     ]
    },
    {
     "name": "stdout",
     "output_type": "stream",
     "text": [
      "Chu hoa tuong ung la: A\n"
     ]
    }
   ],
   "source": [
    "#HW3\n",
    "n =input(\"Hay nhap vao mot kitu:\")\n",
    "if n>='A' and n<='Z':\n",
    "    n = chr(ord(n) + 32)\n",
    "    print(\"Chu thuong tuong ung la:\",n)\n",
    "elif n>='a' and n<='z':\n",
    "    n = chr(ord(n) - 32)\n",
    "    print(\"Chu hoa tuong ung la:\",n)\n",
    "else:\n",
    "    print(\"Du lieu khong hop le\")"
   ]
  },
  {
   "cell_type": "code",
   "execution_count": 13,
   "id": "6956c802-e128-4d28-ba61-7fc3061e7621",
   "metadata": {},
   "outputs": [
    {
     "name": "stdin",
     "output_type": "stream",
     "text": [
      "Hay nhap vao mot ki tu 8\n"
     ]
    },
    {
     "name": "stdout",
     "output_type": "stream",
     "text": [
      "{c}không phải là kí tự alphabet\n"
     ]
    }
   ],
   "source": [
    "#HW4\n",
    "c = input(\"Hay nhap vao mot ki tu\")\n",
    "if c>='A' and c<= 'Z':\n",
    "    print(\"{c} là kí tu alphabet\",c)\n",
    "elif c>='a' and c<='z':\n",
    "    print(\"{c} là kí tu alphabet\",c)\n",
    "else:\n",
    "    print(\"{c}không phải là kí tự alphabet\")"
   ]
  },
  {
   "cell_type": "code",
   "execution_count": 15,
   "id": "c5305004-ded5-47ba-b962-2a00621dbd82",
   "metadata": {},
   "outputs": [
    {
     "name": "stdin",
     "output_type": "stream",
     "text": [
      "Hay nhap vao mot ki tu: H\n"
     ]
    },
    {
     "name": "stdout",
     "output_type": "stream",
     "text": [
      "Chu cai do la: g\n"
     ]
    }
   ],
   "source": [
    "#HW5\n",
    "c=input(\"Hay nhap vao mot ki tu:\")\n",
    "if c>'A' and c<='Z':\n",
    "    n = chr(ord(c)+32)\n",
    "    a = ord(n)-1\n",
    "    print(\"Chu cai do la:\",chr(a))\n",
    "elif c == 'A':\n",
    "    print(\"Khong co chu cai nao\")\n",
    "else:\n",
    "    print(\"Du lieu khong hop le\")\n",
    "    \n",
    "    "
   ]
  },
  {
   "cell_type": "code",
   "execution_count": 22,
   "id": "fdae12e7-3690-47e8-ba8b-1e8ce4427051",
   "metadata": {},
   "outputs": [
    {
     "name": "stdin",
     "output_type": "stream",
     "text": [
      "Hay nhap vao ba so bat ky: 4 5 6\n"
     ]
    },
    {
     "name": "stdout",
     "output_type": "stream",
     "text": [
      "Dien tich cua tam giac la: 9.9\n"
     ]
    }
   ],
   "source": [
    "#HW6\n",
    "import math\n",
    "a,b,c = map(float,input(\"Hay nhap vao ba so bat ky:\").split())\n",
    "if a < b + c and b < a + c and c < a + b:\n",
    "    p = (a + b + c)/2\n",
    "    s = math.sqrt(p * (p-a) * (p-b) * (p-c))\n",
    "    print(\"Dien tich cua tam giac la:\",round(s,1))\n",
    "else:\n",
    "    print(\"Khong phai 3 canh cua tam giac\")"
   ]
  },
  {
   "cell_type": "code",
   "execution_count": 26,
   "id": "da56b3b3-3eca-4b69-bc78-d826a88c992e",
   "metadata": {},
   "outputs": [
    {
     "name": "stdin",
     "output_type": "stream",
     "text": [
      "Nhap vao mot chuoi cac chu cai thuong(=>20 chu cai): qwertyuiopasdfghjklz\n"
     ]
    },
    {
     "name": "stdout",
     "output_type": "stream",
     "text": [
      "Chu cai thu 5 la: t\n",
      "Chu cai thu 9 la: o\n"
     ]
    }
   ],
   "source": [
    "#HW7\n",
    "a = input(\"Nhap vao mot chuoi cac chu cai thuong(=>20 chu cai):\")\n",
    "if len(a) >= 20 and a.islower():\n",
    "   print(\"Chu cai thu 5 la:\", a[4])\n",
    "   print(\"Chu cai thu 9 la:\", a[8])\n",
    "else:\n",
    "   print(\"Du lieu khong hop le.Vui long nhap lai\")"
   ]
  },
  {
   "cell_type": "code",
   "execution_count": 27,
   "id": "2f452160-a039-4f7c-9b7a-92862dd3bd77",
   "metadata": {},
   "outputs": [
    {
     "name": "stdin",
     "output_type": "stream",
     "text": [
      "Ten chu ho:  Phan Minh Quang\n",
      "Chi so thang truoc:  298\n",
      "Chi so thang nay:  350\n"
     ]
    },
    {
     "name": "stdout",
     "output_type": "stream",
     "text": [
      "Ho va Ten: Phan Minh Quang\n",
      "Tien phai tra la: 111564\n"
     ]
    }
   ],
   "source": [
    "\n",
    "ten = input(\"Ten chu ho: \")\n",
    "chi_so_cu = int(input(\"Chi so thang truoc: \"))\n",
    "chi_so_moi = int(input(\"Chi so thang nay: \"))\n",
    "so_dien = chi_so_moi - chi_so_cu\n",
    "if so_dien < 0:\n",
    "    print(\"Chỉ số mới phải lớn hơn hoặc bằng chỉ số cũ.\")\n",
    "else:\n",
    "    if so_dien <= 50:\n",
    "        tien_dien = so_dien * 1984\n",
    "    elif so_dien <= 100:\n",
    "        tien_dien = 50 * 1984 + (so_dien - 50) * 2050\n",
    "    elif so_dien <= 200:\n",
    "        tien_dien = 50 * 1984 + 50 * 2050 + (so_dien - 100) * 2380\n",
    "    elif so_dien <= 300:\n",
    "        tien_dien = 50 * 1984 + 50 * 2050 + 100 * 2380 + (so_dien - 200) * 2998\n",
    "    elif so_dien <= 400:\n",
    "        tien_dien = (50 * 1984 + 50 * 2050 + 100 * 2380 +\n",
    "                     100 * 2998 + (so_dien - 300) * 3350)\n",
    "    else:\n",
    "        tien_dien = (50 * 1984 + 50 * 2050 + 100 * 2380 +\n",
    "                     100 * 2998 + 100 * 3350 + (so_dien - 400) * 3460)\n",
    "    vat = tien_dien * 0.08\n",
    "    tong_tien = round(tien_dien + vat)\n",
    "    print(\"Ho va Ten:\", ten)\n",
    "    print(\"Tien phai tra la:\", tong_tien)\n"
   ]
  },
  {
   "cell_type": "code",
   "execution_count": null,
   "id": "a8177e63-b9af-4659-8d06-3a2cd89f365e",
   "metadata": {},
   "outputs": [],
   "source": [
    "#HW9\n",
    "a = int(input(\"Hay nhap mot so:\"))\n",
    "if a % 2 == 0:\n",
    "    print"
   ]
  }
 ],
 "metadata": {
  "kernelspec": {
   "display_name": "Python [conda env:base] *",
   "language": "python",
   "name": "conda-base-py"
  },
  "language_info": {
   "codemirror_mode": {
    "name": "ipython",
    "version": 3
   },
   "file_extension": ".py",
   "mimetype": "text/x-python",
   "name": "python",
   "nbconvert_exporter": "python",
   "pygments_lexer": "ipython3",
   "version": "3.13.5"
  }
 },
 "nbformat": 4,
 "nbformat_minor": 5
}
