{
 "cells": [
  {
   "cell_type": "code",
   "execution_count": 2,
   "id": "42fcf93d-4565-4dc5-b144-5481d5dd756d",
   "metadata": {},
   "outputs": [
    {
     "name": "stdout",
     "output_type": "stream",
     "text": [
      "Quangdz\n"
     ]
    }
   ],
   "source": [
    "def a = 1; b = 2\n",
    " print(\""
   ]
  },
  {
   "cell_type": "code",
   "execution_count": 4,
   "id": "25affbe5-7973-4e41-aeb4-3cdb8c68ca0a",
   "metadata": {},
   "outputs": [
    {
     "name": "stdout",
     "output_type": "stream",
     "text": [
      "3\n"
     ]
    }
   ],
   "source": [
    "a=1;b=2\n",
    "c=a+b\n",
    "print(c)"
   ]
  },
  {
   "cell_type": "code",
   "execution_count": 2,
   "id": "6a37af60-c46f-45b6-a50b-f542936c7950",
   "metadata": {},
   "outputs": [
    {
     "name": "stdout",
     "output_type": "stream",
     "text": [
      "Hello World!\n"
     ]
    }
   ],
   "source": [
    "print(\"Hello World!\")"
   ]
  },
  {
   "cell_type": "code",
   "execution_count": 4,
   "id": "22b28ec9-8840-4072-a9b2-06310a00c312",
   "metadata": {},
   "outputs": [
    {
     "name": "stdin",
     "output_type": "stream",
     "text": [
      " 2\n"
     ]
    },
    {
     "data": {
      "text/plain": [
       "'2'"
      ]
     },
     "execution_count": 4,
     "metadata": {},
     "output_type": "execute_result"
    }
   ],
   "source": [
    "input()"
   ]
  },
  {
   "cell_type": "code",
   "execution_count": 6,
   "id": "f2db774a-61b5-4875-8617-4b99e3791420",
   "metadata": {},
   "outputs": [
    {
     "name": "stdin",
     "output_type": "stream",
     "text": [
      "Nhap so nguyen a: 2\n",
      "Nhap so nguyen b: 3\n"
     ]
    },
    {
     "name": "stdout",
     "output_type": "stream",
     "text": [
      "Tong 5\n",
      "Hieu -1\n",
      "Tich 6\n",
      "Phan nguyen 0\n",
      "Phan du 2\n",
      "chia thuc 0.67\n"
     ]
    }
   ],
   "source": [
    "a = int(input(\"Nhap so nguyen a:\"))\n",
    "b = int(input(\"Nhap so nguyen b:\"))\n",
    "tong = a + b\n",
    "hieu = a - b\n",
    "tich = a * b\n",
    "phan_nguyen = a // b\n",
    "phan_du = a % b\n",
    "chia_thuc = round (a / b,2)\n",
    "print(\"Tong\",tong)\n",
    "print(\"Hieu\",hieu)\n",
    "print(\"Tich\",tich)\n",
    "print(\"Phan nguyen\",phan_nguyen)\n",
    "print(\"Phan du\",phan_du)\n",
    "print(\"chia thuc\",chia_thuc)\n",
    "\n",
    "\n"
   ]
  },
  {
   "cell_type": "code",
   "execution_count": 4,
   "id": "8badd133-8583-44f0-a2f6-68b7173d93a1",
   "metadata": {},
   "outputs": [
    {
     "name": "stdin",
     "output_type": "stream",
     "text": [
      " 5 5 5 5 5 5\n"
     ]
    },
    {
     "name": "stdout",
     "output_type": "stream",
     "text": [
      "Diem trung binh 5.0\n"
     ]
    }
   ],
   "source": [
    "#W2A4\n",
    "a1,b1,c1,a2,b2,a3 = map(int,input().split(\" \"))\n",
    "TB = ((a1+b1+c1)+(a2+b2)*2+a3*3)/10\n",
    "round(TB,1)\n",
    "print(\"Diem trung binh\",TB)"
   ]
  },
  {
   "cell_type": "code",
   "execution_count": 9,
   "id": "1124c9be-3a1f-45c0-81cf-a90cfd55c444",
   "metadata": {},
   "outputs": [
    {
     "name": "stdin",
     "output_type": "stream",
     "text": [
      " 2 3\n"
     ]
    },
    {
     "name": "stdout",
     "output_type": "stream",
     "text": [
      "a mu b = 8\n"
     ]
    }
   ],
   "source": [
    "#W2A5\n",
    "a,b = map(int,input().split(\" \"))\n",
    "luy_thua = a ** b\n",
    "print(\"a mu b =\",luy_thua)"
   ]
  },
  {
   "cell_type": "code",
   "execution_count": 22,
   "id": "c8c24d3d-261a-425b-ba05-16402a62dd8c",
   "metadata": {},
   "outputs": [
    {
     "name": "stdin",
     "output_type": "stream",
     "text": [
      "Nhap ky tu in thuong tu a den z: a\n"
     ]
    },
    {
     "name": "stdout",
     "output_type": "stream",
     "text": [
      "Ma unicode cua a la: 97\n",
      "Ky tu hoa tuong ung la: A\n"
     ]
    }
   ],
   "source": [
    "#W2A6\n",
    "char=input(\"Nhap ky tu in thuong tu a den z:\")\n",
    "ma_unicode = ord(char)\n",
    "print(\"Ma unicode cua\",char,\"la:\",ma_unicode)\n",
    "ma_hoa = ma_unicode-32\n",
    "char_hoa= chr(ma_hoa)\n",
    "print(\"Ky tu hoa tuong ung la:\",char_hoa)\n",
    "\n"
   ]
  },
  {
   "cell_type": "code",
   "execution_count": 32,
   "id": "6b9d34ad-5643-4fe2-a1c2-2b05bc00f98e",
   "metadata": {},
   "outputs": [
    {
     "name": "stdout",
     "output_type": "stream",
     "text": [
      "A= 512\n",
      "B= 512\n"
     ]
    }
   ],
   "source": [
    "#W2A7\n",
    "A = ((13 ** 2) *3 + 5)\n",
    "B = 13**2*3+5\n",
    "print(f\"A= {A}\\nB= {B}\")"
   ]
  },
  {
   "cell_type": "code",
   "execution_count": 36,
   "id": "88517ef8-d73c-40da-95d6-3de3d784e76a",
   "metadata": {},
   "outputs": [
    {
     "name": "stdin",
     "output_type": "stream",
     "text": [
      " 76\n"
     ]
    },
    {
     "name": "stdout",
     "output_type": "stream",
     "text": [
      "168.8\n"
     ]
    }
   ],
   "source": [
    "#W2A8\n",
    "C = float(input())\n",
    "F = 9/5*C + 32\n",
    "F = round(F,2)\n",
    "print(F)\n"
   ]
  },
  {
   "cell_type": "code",
   "execution_count": 38,
   "id": "7cc0c76f-4b04-4a17-8342-e1bff137942f",
   "metadata": {},
   "outputs": [
    {
     "name": "stdin",
     "output_type": "stream",
     "text": [
      "So tien mua dong ho: 200\n"
     ]
    },
    {
     "name": "stdout",
     "output_type": "stream",
     "text": [
      "Tong so tien phai tra la: 90.0\n"
     ]
    }
   ],
   "source": [
    "#W2A9\n",
    "x = float(input(\"So tien mua dong ho:\"))\n",
    "tong_tien= 0.4*x + 10\n",
    "tong_tien=round(tong_tien,2)\n",
    "print(\"Tong so tien phai tra la:\",tong_tien)"
   ]
  },
  {
   "cell_type": "code",
   "execution_count": 45,
   "id": "7507c6f3-2cc7-4994-b551-f3565f457da7",
   "metadata": {},
   "outputs": [
    {
     "name": "stdin",
     "output_type": "stream",
     "text": [
      "Nhap ten cua ba nguoi(cach nhau boi dau cach):  Bob Alice Helen\n"
     ]
    },
    {
     "name": "stdout",
     "output_type": "stream",
     "text": [
      "Hi Helen,Alice, and Bob.\n"
     ]
    }
   ],
   "source": [
    "#W2A10\n",
    "Ten=input(\"Nhap ten cua ba nguoi(cach nhau boi dau cach): \")\n",
    "Ten=Ten.split()\n",
    "dao_Ten=Ten [::-1]\n",
    "print(f\"Hi {dao_Ten[0]},{dao_Ten[1]}, and {dao_Ten[2]}.\")\n",
    "\n",
    "\n",
    "\n"
   ]
  },
  {
   "cell_type": "code",
   "execution_count": 56,
   "id": "2b8ea185-7eae-4a8f-9bef-4c298e87b6e4",
   "metadata": {},
   "outputs": [
    {
     "name": "stdin",
     "output_type": "stream",
     "text": [
      "hay nhap so gio va so phut (cach nhau bang dau cach):  1 3\n"
     ]
    },
    {
     "name": "stdout",
     "output_type": "stream",
     "text": [
      "So giay la: (3600.0, 180.0)\n"
     ]
    }
   ],
   "source": [
    "#W2A11\n",
    "h,m = map(float,input(\"hay nhap so gio va so phut (cach nhau bang dau cach): \").split())\n",
    "giay = h* 3600,m * 60\n",
    "print(\"So giay la:\",giay)"
   ]
  },
  {
   "cell_type": "code",
   "execution_count": 58,
   "id": "d0055988-08ab-4e7a-bdee-c04f278edc31",
   "metadata": {},
   "outputs": [
    {
     "name": "stdin",
     "output_type": "stream",
     "text": [
      "Hay nhap so canh: 3\n"
     ]
    },
    {
     "name": "stdout",
     "output_type": "stream",
     "text": [
      "So mieng dan can thiet la: 54\n"
     ]
    }
   ],
   "source": [
    "#W2A12\n",
    "n = int(input(\"Hay nhap so canh:\"))\n",
    "so_mieng_dan = 6 * n * n\n",
    "print(\"So mieng dan can thiet la:\",so_mieng_dan)"
   ]
  },
  {
   "cell_type": "code",
   "execution_count": 67,
   "id": "f8a044fd-fc50-4fbc-838c-e92a04c1a274",
   "metadata": {},
   "outputs": [
    {
     "name": "stdin",
     "output_type": "stream",
     "text": [
      "Hay nhap 2 so nguyen duong: 45 56\n"
     ]
    },
    {
     "name": "stdout",
     "output_type": "stream",
     "text": [
      "Hang don vi la: 0\n"
     ]
    }
   ],
   "source": [
    "#W2A13\n",
    "a,b=map(int,input(\"Hay nhap 2 so nguyen duong:\").split())\n",
    "tich = a * b\n",
    "hang_don_vi= tich % 10\n",
    "print(\"Hang don vi la:\",hang_don_vi)"
   ]
  },
  {
   "cell_type": "code",
   "execution_count": 69,
   "id": "798d0c00-5611-4f18-8f22-d4223bba974d",
   "metadata": {},
   "outputs": [
    {
     "name": "stdin",
     "output_type": "stream",
     "text": [
      "Hay nhap hai so bat ky 3 4\n"
     ]
    },
    {
     "name": "stdout",
     "output_type": "stream",
     "text": [
      "4.0 3.0\n"
     ]
    }
   ],
   "source": [
    "#W2A14\n",
    "a,b = map(float,input(\"Hay nhap hai so bat ky\").split())\n",
    "a , b=b,a\n",
    "print(a,b)"
   ]
  },
  {
   "cell_type": "code",
   "execution_count": 70,
   "id": "2fde22db-0ce5-4478-8baf-28248ede0df4",
   "metadata": {},
   "outputs": [
    {
     "name": "stdin",
     "output_type": "stream",
     "text": [
      "Hay nhap so nguyen bat ky 3\n"
     ]
    },
    {
     "name": "stdout",
     "output_type": "stream",
     "text": [
      "So sao la : 37\n"
     ]
    }
   ],
   "source": [
    "#W2A15\n",
    "n = int(input(\"Hay nhap so nguyen bat ky\"))\n",
    "so_sao = 6*n*(n-1)+1\n",
    "print(\"So sao la :\",so_sao)"
   ]
  },
  {
   "cell_type": "code",
   "execution_count": 71,
   "id": "3ad16a04-0a26-4e3e-ab95-8dc9754c266e",
   "metadata": {},
   "outputs": [
    {
     "name": "stdout",
     "output_type": "stream",
     "text": [
      "Spring\n",
      "Summer\n",
      "Autumn\n",
      "Winter\n"
     ]
    }
   ],
   "source": [
    "#W2A16\n",
    "print(\"Spring\\nSummer\\nAutumn\\nWinter\")"
   ]
  },
  {
   "cell_type": "code",
   "execution_count": 72,
   "id": "20d167ff-1d80-421f-945d-6273e1e4991e",
   "metadata": {},
   "outputs": [
    {
     "name": "stdout",
     "output_type": "stream",
     "text": [
      "*\n",
      "***\n",
      "*****\n"
     ]
    }
   ],
   "source": [
    "#W2A17\n",
    "print(\"*\")\n",
    "print(\"***\")\n",
    "print(\"*****\")"
   ]
  },
  {
   "cell_type": "code",
   "execution_count": null,
   "id": "24405e35-01b3-4450-aaa8-35a9cdcdfe39",
   "metadata": {},
   "outputs": [],
   "source": [
    "#W2A18\n",
    "print(\"### # # ### ###\n",
    "        #  # # # #\n",
    "         # # # # #\n",
    "     # # # # #\n",
    "# # # # # "
   ]
  },
  {
   "cell_type": "code",
   "execution_count": 80,
   "id": "967ac599-fe09-4757-aa71-8dfce8d40ccc",
   "metadata": {},
   "outputs": [
    {
     "name": "stdout",
     "output_type": "stream",
     "text": [
      "Monday\n",
      "Tuesday\n",
      "Wednesday\n",
      "Thursday\n",
      "Friday\n",
      "Saturday\n",
      "Sunday\n"
     ]
    }
   ],
   "source": [
    "#W2A19\n",
    "print(\"Monday\")\n",
    "print(\"Tuesday\")\n",
    "print(\"Wednesday\")\n",
    "print(\"Thursday\")\n",
    "print(\"Friday\")\n",
    "print(\"Saturday\")\n",
    "print(\"Sunday\")\n"
   ]
  },
  {
   "cell_type": "code",
   "execution_count": 82,
   "id": "a682bc77-d6d4-4817-b46c-663284cc9b4d",
   "metadata": {},
   "outputs": [
    {
     "name": "stdout",
     "output_type": "stream",
     "text": [
      "January\n",
      "February\n",
      "March\n",
      "April\n",
      "May\n",
      "June\n",
      "JulyAugust\n",
      "September\n",
      "November\n",
      "December\n"
     ]
    }
   ],
   "source": [
    "#W2A22\n",
    "print(\"January\\nFebruary\\nMarch\\nApril\\nMay\\nJune\\nJulyAugust\\nSeptember\\nNovember\\nDecember\")\n",
    "\n"
   ]
  },
  {
   "cell_type": "code",
   "execution_count": 73,
   "id": "9431dd3a-3789-4202-856e-98fbf5d0412f",
   "metadata": {},
   "outputs": [
    {
     "name": "stdout",
     "output_type": "stream",
     "text": [
      "Hello World\n",
      "Hello World\n",
      "Hello World\n",
      "Hello World\n",
      "Hello World\n",
      "Hello World\n",
      "Hello World\n",
      "Hello World\n",
      "Hello World\n",
      "Hello World\n"
     ]
    }
   ],
   "source": [
    "#W2A21\n",
    "for i in range(10):\n",
    "    print(\"Hello World\")\n"
   ]
  }
 ],
 "metadata": {
  "kernelspec": {
   "display_name": "Python [conda env:base] *",
   "language": "python",
   "name": "conda-base-py"
  },
  "language_info": {
   "codemirror_mode": {
    "name": "ipython",
    "version": 3
   },
   "file_extension": ".py",
   "mimetype": "text/x-python",
   "name": "python",
   "nbconvert_exporter": "python",
   "pygments_lexer": "ipython3",
   "version": "3.13.5"
  }
 },
 "nbformat": 4,
 "nbformat_minor": 5
}
