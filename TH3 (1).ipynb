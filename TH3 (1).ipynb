{
 "cells": [
  {
   "cell_type": "code",
   "execution_count": 1,
   "id": "1cdfbc88-07fe-4bd6-aab3-0184aff4fda1",
   "metadata": {},
   "outputs": [
    {
     "name": "stdout",
     "output_type": "stream",
     "text": [
      "Quang\n"
     ]
    }
   ],
   "source": []
  },
  {
   "cell_type": "code",
   "execution_count": 2,
   "id": "2f81ed52-c77e-41fa-9630-7a0991417719",
   "metadata": {},
   "outputs": [
    {
     "name": "stdout",
     "output_type": "stream",
     "text": [
      "\n",
      "Spring\n",
      "Summer\n",
      "Autumn\n",
      "Winter\n"
     ]
    }
   ],
   "source": []
  },
  {
   "cell_type": "code",
   "execution_count": 3,
   "id": "c69f3b14-3e71-4757-bcbc-376586d73d74",
   "metadata": {},
   "outputs": [
    {
     "name": "stdin",
     "output_type": "stream",
     "text": [
      "Hay nhap vao 2 so thuc: 4 3\n"
     ]
    },
    {
     "name": "stdout",
     "output_type": "stream",
     "text": [
      "Dap an la: 1\n"
     ]
    }
   ],
   "source": [
    "#W3A4\n",
    "import math\n",
    "a,b=map(float,input(\"Hay nhap vao 2 so thuc:\").split())\n",
    "c = a / b\n",
    "if b == 0:\n",
    "    print(\"Loi\")\n",
    "else:\n",
    "    c = a / b\n",
    "    ket_qua=math.floor(c)\n",
    "    print(\"Dap an la:\",ket_qua)\n"
   ]
  },
  {
   "cell_type": "code",
   "execution_count": 4,
   "id": "1837c0a0-f2fd-42d1-a4f2-c8dc329a5260",
   "metadata": {},
   "outputs": [
    {
     "name": "stdin",
     "output_type": "stream",
     "text": [
      "Hay nhap vao 2 so thuc: 8 5\n"
     ]
    },
    {
     "name": "stdout",
     "output_type": "stream",
     "text": [
      "Dap an la: 2\n"
     ]
    }
   ],
   "source": [
    "#W3A5\n",
    "import math\n",
    "a,b=map(float,input(\"Hay nhap vao 2 so thuc:\").split())\n",
    "if b ==0:\n",
    "    print(\"Loi\")\n",
    "else:\n",
    "    c = a / b\n",
    "    ket_qua=math.ceil(c)\n",
    "    print(\"Dap an la:\",ket_qua)"
   ]
  },
  {
   "cell_type": "code",
   "execution_count": 6,
   "id": "2ea1d774-a418-41b3-bbd6-0ea8039bb488",
   "metadata": {},
   "outputs": [
    {
     "name": "stdin",
     "output_type": "stream",
     "text": [
      "Hay nhap mot so nguyen duong bat ky: 6\n"
     ]
    },
    {
     "name": "stdout",
     "output_type": "stream",
     "text": [
      "Even\n"
     ]
    }
   ],
   "source": [
    "#W3A6\n",
    "a =int(input(\"Hay nhap mot so nguyen duong bat ky:\"))\n",
    "if a < 0:\n",
    "    print(\"Du lieu khong hop le\")\n",
    "else:\n",
    "    if a  % 2 ==0:\n",
    "        print(\"Even\")\n",
    "    else:\n",
    "        print(\"Odd\")"
   ]
  },
  {
   "cell_type": "code",
   "execution_count": 9,
   "id": "abe8d1c1-85d0-4c1f-b7eb-bbaad47deda9",
   "metadata": {},
   "outputs": [
    {
     "name": "stdin",
     "output_type": "stream",
     "text": [
      "Hay nhap vao hai so nguyen: -8 -9\n"
     ]
    },
    {
     "name": "stdout",
     "output_type": "stream",
     "text": [
      "Yes\n"
     ]
    }
   ],
   "source": [
    "#W3A7\n",
    "a,b=map(int,input(\"Hay nhap vao hai so nguyen:\").split())\n",
    "if a < 0 and b < 0:\n",
    "    print(\"Yes\")\n",
    "else:\n",
    "    print(\"No\")"
   ]
  },
  {
   "cell_type": "code",
   "execution_count": 12,
   "id": "b878decc-1c90-43e2-b061-2e2691e5bf62",
   "metadata": {},
   "outputs": [
    {
     "name": "stdin",
     "output_type": "stream",
     "text": [
      "Nhap chuoi a (ki tu thuong): asasasa\n",
      "Nhap chuoi b (ki tu thuong): sasasasasas\n"
     ]
    },
    {
     "name": "stdout",
     "output_type": "stream",
     "text": [
      "False\n"
     ]
    }
   ],
   "source": [
    "#W3A8\n",
    "a=input(\"Nhap chuoi a (ki tu thuong):\")\n",
    "b=input(\"Nhap chuoi b (ki tu thuong):\")\n",
    "if len(a) > len(b):\n",
    "    print(\"True\")\n",
    "else:\n",
    "    print(\"False\")"
   ]
  },
  {
   "cell_type": "code",
   "execution_count": 13,
   "id": "0c4df1d8-93dd-42d1-b7fb-de370c8ffdbf",
   "metadata": {},
   "outputs": [
    {
     "name": "stdin",
     "output_type": "stream",
     "text": [
      "Nhap vao 3 so nguyen duong bat ky 5 6 7\n"
     ]
    },
    {
     "name": "stdout",
     "output_type": "stream",
     "text": [
      "Yes\n"
     ]
    }
   ],
   "source": [
    "#W3A9\n",
    "a,b,c=map(int,input(\"Nhap vao 3 so nguyen duong bat ky\").split())\n",
    "if a < b + c and b < a + c and c < a + b:\n",
    "    print(\"Yes\")\n",
    "else:\n",
    "    print(\"No\")"
   ]
  },
  {
   "cell_type": "code",
   "execution_count": 17,
   "id": "9aaf0143-47d5-428c-a78b-689f19b3e40e",
   "metadata": {},
   "outputs": [
    {
     "name": "stdin",
     "output_type": "stream",
     "text": [
      "Hay nhap vao 4 so nguyen duong: 3 4 5 6\n"
     ]
    },
    {
     "name": "stdout",
     "output_type": "stream",
     "text": [
      "So lon nhat la: 6\n"
     ]
    }
   ],
   "source": [
    "#W3A10\n",
    "a,b,c,d=map(int,input(\"Hay nhap vao 4 so nguyen duong:\").split())\n",
    "max_val=a\n",
    "if b > a:\n",
    "    max_val=b\n",
    "if c > b:\n",
    "    max_val=c\n",
    "if d > c:\n",
    "    max_val=d\n",
    "print(\"So lon nhat la:\",max_val)"
   ]
  },
  {
   "cell_type": "code",
   "execution_count": 19,
   "id": "087db326-0031-4b74-8771-970f29ca2b63",
   "metadata": {},
   "outputs": [
    {
     "name": "stdin",
     "output_type": "stream",
     "text": [
      "Hay nhap vao 3 canh bat ky cua 1 tam giac: 4 5 6\n"
     ]
    },
    {
     "name": "stdout",
     "output_type": "stream",
     "text": [
      "Day la tam giac thuong\n"
     ]
    }
   ],
   "source": [
    "#W3A11\n",
    "a,b,c=map(int,input(\"Hay nhap vao 3 canh bat ky cua 1 tam giac:\").split())\n",
    "if a >= b + c or b >= a + c or c >= b + a:\n",
    "    print(\"Khong phai tam giac\")\n",
    "else:\n",
    "    if a == b == c:\n",
    "        print(\"Day la tam giac deu\")\n",
    "    elif a == b or b == c or c == a:\n",
    "        print(\"Day la tam giac can\")\n",
    "    else:\n",
    "        print(\"Day la tam giac thuong\")\n"
   ]
  },
  {
   "cell_type": "code",
   "execution_count": 23,
   "id": "ef58fae1-001c-444d-bb99-35410dfc4f76",
   "metadata": {},
   "outputs": [
    {
     "name": "stdin",
     "output_type": "stream",
     "text": [
      "Hay nhap 1 nam bat ky 2065\n"
     ]
    },
    {
     "name": "stdout",
     "output_type": "stream",
     "text": [
      "No\n"
     ]
    }
   ],
   "source": [
    "#W3A12\n",
    "n=int(input(\"Hay nhap 1 nam bat ky\"))\n",
    "if n % 400 ==0 or n % 4 == 0 and n % 100 !=0:\n",
    "    print(\"Yes\")\n",
    "else:\n",
    "    print(\"No\")"
   ]
  },
  {
   "cell_type": "code",
   "execution_count": 24,
   "id": "3367d550-52be-4e1d-b92e-709e3a628382",
   "metadata": {},
   "outputs": [
    {
     "name": "stdin",
     "output_type": "stream",
     "text": [
      "Hay nhap vao 2 so thuc bat ky: 6 7\n"
     ]
    },
    {
     "name": "stdout",
     "output_type": "stream",
     "text": [
      "Nghiem cua phuong trinh la x=: -1.17\n"
     ]
    }
   ],
   "source": [
    "#W3A14\n",
    "a,b=map(float,input(\"Hay nhap vao 2 so thuc bat ky:\").split())\n",
    "if a ==0:\n",
    "    if b == 0:\n",
    "        print(\"Phuong trinh vo so nghiem\")\n",
    "    else:\n",
    "        print(\"Phuong trinh vo nghiem\")\n",
    "else:\n",
    "    x = -b/a\n",
    "    print(\"Nghiem cua phuong trinh la x=:\",round(x,2))\n"
   ]
  },
  {
   "cell_type": "code",
   "execution_count": 26,
   "id": "77e19359-bf0b-4fe3-9d77-5701c9920049",
   "metadata": {},
   "outputs": [
    {
     "name": "stdin",
     "output_type": "stream",
     "text": [
      "Hay nhap diem cua ban 3\n"
     ]
    },
    {
     "name": "stdout",
     "output_type": "stream",
     "text": [
      "Yeu\n"
     ]
    }
   ],
   "source": [
    "#W3A15\n",
    "a =float(input(\"Hay nhap diem cua ban:\"))\n",
    "if a >= 8:\n",
    "    print(\"Gioi\")\n",
    "elif a >= 6.5:\n",
    "    print(\"Kha\")\n",
    "elif a >= 5:\n",
    "    print(\"Trung binh\")\n",
    "else:\n",
    "    print(\"Yeu\")"
   ]
  },
  {
   "cell_type": "code",
   "execution_count": 27,
   "id": "71cb8159-6636-45f2-b990-959e7856d311",
   "metadata": {},
   "outputs": [
    {
     "name": "stdin",
     "output_type": "stream",
     "text": [
      "Hay nhap mot so thuc bat ky: 6.8798\n"
     ]
    },
    {
     "name": "stdout",
     "output_type": "stream",
     "text": [
      "6\n",
      "7\n",
      "7\n"
     ]
    }
   ],
   "source": [
    "#W3A16\n",
    "a = float(input(\"Hay nhap mot so thuc bat ky:\"))\n",
    "so_nguyen= int(a)\n",
    "print(so_nguyen)\n",
    "if a > so_nguyen:\n",
    "    so_lam_tron_len=so_nguyen+1\n",
    "    print(so_lam_tron_len)\n",
    "else:\n",
    "    so_lam_tron_len=so_nguyen\n",
    "    print(so_lam_tron_len)\n",
    "if a - so_nguyen < 0.5:\n",
    "    so_lam_tron_gan=so_nguyen\n",
    "    print(so_lam_tron_gan)\n",
    "else:\n",
    "    so_lam_tron_gan=so_nguyen + 1\n",
    "    print(so_lam_tron_gan)\n",
    "    "
   ]
  },
  {
   "cell_type": "code",
   "execution_count": 31,
   "id": "8f68bfd8-3f16-41fb-ae46-9debf842bff5",
   "metadata": {},
   "outputs": [
    {
     "name": "stdin",
     "output_type": "stream",
     "text": [
      "Hay nhap 4 so bat ky: 1 3 4 8\n"
     ]
    },
    {
     "name": "stdout",
     "output_type": "stream",
     "text": [
      "Day khong phai la cap so nhan co cong boi nguyen\n"
     ]
    }
   ],
   "source": [
    "#W3A17\n",
    "a,b,c,d=map(float,input(\"Hay nhap 4 so bat ky:\").split())\n",
    "x = b / a\n",
    "e=int(x)\n",
    "if b * e==c:\n",
    "    if c * e==d:\n",
    "        print(\"Day la mot cap so nhan co cong boi nguyen\")\n",
    "else:\n",
    "    print(\"Day khong phai la cap so nhan co cong boi nguyen\")\n",
    "    "
   ]
  },
  {
   "cell_type": "code",
   "execution_count": null,
   "id": "e4ab4493-9d75-488f-b177-235c5eb0e4bc",
   "metadata": {},
   "outputs": [],
   "source": []
  }
 ],
 "metadata": {
  "kernelspec": {
   "display_name": "Python [conda env:base] *",
   "language": "python",
   "name": "conda-base-py"
  },
  "language_info": {
   "codemirror_mode": {
    "name": "ipython",
    "version": 3
   },
   "file_extension": ".py",
   "mimetype": "text/x-python",
   "name": "python",
   "nbconvert_exporter": "python",
   "pygments_lexer": "ipython3",
   "version": "3.13.5"
  }
 },
 "nbformat": 4,
 "nbformat_minor": 5
}
