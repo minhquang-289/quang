#HW1
a=int(input())
so_nguyen=2*a
print(so_nguyen)



#HW2
a,b=map(float,input().split())
dien_tich=a*b-(a/2)*(a/2)*3.14
dien_tich =round(dien_tich,2)
print(dien_tich)


#HW3
n =input("Hay nhap vao mot kitu:")
if n>='A' and n<='Z':
    n = chr(ord(n) + 32)
    print("Chu thuong tuong ung la:",n)
elif n>='a' and n<='z':
    n = chr(ord(n) - 32)
    print("Chu hoa tuong ung la:",n)
else:
    print("Du lieu khong hop le")


#HW4
c = input("Hay nhap vao mot ki tu")
if c>='A' and c<= 'Z':
    print("{c} là kí tu alphabet",c)
elif c>='a' and c<='z':
    print("{c} là kí tu alphabet",c)
else:
    print("{c}không phải là kí tự alphabet")


#HW5
c=input("Hay nhap vao mot ki tu:")
if c>'A' and c<='Z':
    n = chr(ord(c)+32)
    a = ord(n)-1
    print("Chu cai do la:",chr(a))
elif c == 'A':
    print("Khong co chu cai nao")
else:
    print("Du lieu khong hop le")
    
    


#HW6
import math
a,b,c = map(float,input("Hay nhap vao ba so bat ky:").split())
if a < b + c and b < a + c and c < a + b:
    p = (a + b + c)/2
    s = math.sqrt(p * (p-a) * (p-b) * (p-c))
    print("Dien tich cua tam giac la:",round(s,1))
else:
    print("Khong phai 3 canh cua tam giac")


#HW7
a = input("Nhap vao mot chuoi cac chu cai thuong(=>20 chu cai):")
if len(a) >= 20 and a.islower():
   print("Chu cai thu 5 la:", a[4])
   print("Chu cai thu 9 la:", a[8])
else:
   print("Du lieu khong hop le.Vui long nhap lai")



ten = input("Ten chu ho: ")
chi_so_cu = int(input("Chi so thang truoc: "))
chi_so_moi = int(input("Chi so thang nay: "))
so_dien = chi_so_moi - chi_so_cu
if so_dien < 0:
    print("Chỉ số mới phải lớn hơn hoặc bằng chỉ số cũ.")
else:
    if so_dien <= 50:
        tien_dien = so_dien * 1984
    elif so_dien <= 100:
        tien_dien = 50 * 1984 + (so_dien - 50) * 2050
    elif so_dien <= 200:
        tien_dien = 50 * 1984 + 50 * 2050 + (so_dien - 100) * 2380
    elif so_dien <= 300:
        tien_dien = 50 * 1984 + 50 * 2050 + 100 * 2380 + (so_dien - 200) * 2998
    elif so_dien <= 400:
        tien_dien = (50 * 1984 + 50 * 2050 + 100 * 2380 +
                     100 * 2998 + (so_dien - 300) * 3350)
    else:
        tien_dien = (50 * 1984 + 50 * 2050 + 100 * 2380 +
                     100 * 2998 + 100 * 3350 + (so_dien - 400) * 3460)
    vat = tien_dien * 0.08
    tong_tien = round(tien_dien + vat)
    print("Ho va Ten:", ten)
    print("Tien phai tra la:", tong_tien)



#HW9
a = int(input("Hay nhap mot so:"))
if a % 2 == 0:
    print("La 1 so chan")
else:
    print("La 1 so le")
    


#HW10
a = int(input("Hay nhap mot so bat ky:"))
if a % 10 == 5:
    print(True)
else:
    print(False)


#HW11
a = int(input("Hay nhap mot so bat ky:"))
if a % 15 == 0:
    print(True)
else:
    print(False)


#HW12
a = int(input("Hay nhap nam sinh cua ban:"))
if 2025 - a >= 18:
    print("Duoc di bau cu")
else:
    print("Khong duoc di bau cu")


#HW13
a,b=map(int,input("Hay nhap hai so bat ky:").split())
if a > b:
    print(a)
elif b > a:
    print(b)
else:
    print("Hai so ban nhap bang nhau")


#HW14
char=input("Hay nhap vao 1 ki tu")
if char.isalpha:
    print("Day la mot ki tu")
elif char.isdigit:
    print("Day la mot so")
else:
    print("Khong phai ki tu cung khong phai so")
    


#HW15
a=int(input("Ban hay nhap diem (0-10):"))
if a>=8:
    print("Gioi")
elif a >= 6.5 and a < 8:
    print("Kha")
elif a >= 5 and a < 6.5:
    prit("Trung binh")
else:
    print("Yeu")


#HW16
a = int(input("Ban hay nhap mot nam bat ki:"))
if a % 400 == 0 or a % 4 == 0:
    print("Nam nhuan")
elif a % 100 != 0:
    print("Nam nhuan")
else:
    print("Khong la nam nhuan")
        


#HW17
a = int(input("Nhap diem cua ban (0-10):"))
if a >= 4:
    print("Qua mon")
else:
    print("Hoc lai")


#HW18
a = int(input("Nhap nam sinh:"))
b = 2025 - a
print("So tuoi cua ban la:",b)
if b >= 18:
    print("Da du 18 tuoi")
else:
    print("Chua du 18 tuoi")



