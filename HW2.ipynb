{
 "cells": [
  {
   "cell_type": "code",
   "execution_count": 1,
   "id": "8bf6cbc0-5868-4660-b143-058c37b9e722",
   "metadata": {},
   "outputs": [
    {
     "name": "stdin",
     "output_type": "stream",
     "text": [
      "Hay nhap chieu dai va chieu rong cua hinh chu nhat: 4 5\n"
     ]
    },
    {
     "name": "stdout",
     "output_type": "stream",
     "text": [
      "Dien tich cua hinh chu nhat do la: 20\n",
      "Chu vi cua hinh chu nhat do la: 18\n"
     ]
    }
   ],
   "source": [
    "#Bai1\n",
    "a,b=map(int,input(\"Hay nhap chieu dai va chieu rong cua hinh chu nhat:\").split())\n",
    "dien_tich= a * b\n",
    "chu_vi= (a + b) * 2\n",
    "print(\"Dien tich cua hinh chu nhat do la:\",dien_tich)\n",
    "print(\"Chu vi cua hinh chu nhat do la:\",chu_vi)\n",
    "\n"
   ]
  },
  {
   "cell_type": "code",
   "execution_count": 3,
   "id": "3dbf669c-dd65-47de-ba43-546eb5b649d0",
   "metadata": {},
   "outputs": [
    {
     "name": "stdin",
     "output_type": "stream",
     "text": [
      "Hay nhap ban kinh cua hinh tron: 3\n"
     ]
    },
    {
     "name": "stdout",
     "output_type": "stream",
     "text": [
      "Dien tich cua hinh tron do la: 28.26\n",
      "Chu vi cua hinh tron do la: 18.84\n"
     ]
    }
   ],
   "source": [
    "#Bai2\n",
    "r=int(input(\"Hay nhap ban kinh cua hinh tron:\"))\n",
    "dien_tich= 3.14 * r * r \n",
    "chu_vi= 3.14 * 2 * r\n",
    "print(\"Dien tich cua hinh tron do la:\",round(dien_tich,2))\n",
    "print(\"Chu vi cua hinh tron do la:\",chu_vi)\n",
    "\n"
   ]
  },
  {
   "cell_type": "code",
   "execution_count": 8,
   "id": "a2ce83f6-d4e0-4b2e-8767-926cd74930ff",
   "metadata": {},
   "outputs": [
    {
     "name": "stdin",
     "output_type": "stream",
     "text": [
      "Hay nhap vao 3 so bat ky:  5 5 5\n"
     ]
    },
    {
     "name": "stdout",
     "output_type": "stream",
     "text": [
      "Day la tam giac deu\n",
      "Dien tich cua tam giac la: 10.83\n",
      "Chu vi cua tam giac la: 15\n"
     ]
    }
   ],
   "source": [
    "#Bai3\n",
    "import math\n",
    "a,b,c=map(int,input(\"Hay nhap vao 3 so bat ky:\").split())\n",
    "if a >= b + c or b >= a + c or c >= a + b:\n",
    "    print(\"Khong phai la so do cua 1 tam giac\")\n",
    "elif a == b and b == c and c == a:\n",
    "    print(\"Day la tam giac deu\")\n",
    "    s1 = (a*a * math.sqrt(3)) / 4\n",
    "    c1 = a * 3\n",
    "    print(\"Dien tich cua tam giac la:\",round(s1,2))\n",
    "    print(\"Chu vi cua tam giac la:\",c1)\n",
    "elif a == b or b == c or c == a:\n",
    "    print(\"Day la tam giac can\")\n",
    "    p = (a+b+c)/2\n",
    "    s2 = math.sqrt(p*(p-a)*(p-b)*(p-c))\n",
    "    c2 = p * 2\n",
    "    print(\"Dien tich cua tam giac la:\",round(s2,2))\n",
    "    print(\"Chu vi cua tam giac la:\",c2)\n",
    "elif a*a == b*b + c*c or b*b == a*a + c*c or c*c == b*b + a*a:\n",
    "    print(\"Day la tam giac vuong\")\n",
    "    p = (a+b+c)/2\n",
    "    s3 = math.sqrt(p*(p-a)*(p-b)*(p-c))\n",
    "    c3 = p * 2\n",
    "    print(\"Dien tich cua tam giac la:\",round(s3,2))\n",
    "    print(\"Chu vi cua tam giac la:\",c3)\n",
    "else:\n",
    "    print(\"Day la tam giac thuong\")\n",
    "    p = (a+b+c)/2\n",
    "    s4 = math.sqrt(p*(p-a)*(p-b)*(p-c))\n",
    "    c4= p * 2\n",
    "    print(\"Dien tich cua tam giac la:\",round(s4,2))\n",
    "    print(\"Chu vi cua tam giac la:\",c4)\n",
    "    \n",
    "    "
   ]
  },
  {
   "cell_type": "code",
   "execution_count": 11,
   "id": "f73c58db-fe29-43da-9116-e80e20d646ad",
   "metadata": {
    "scrolled": true
   },
   "outputs": [
    {
     "name": "stdin",
     "output_type": "stream",
     "text": [
      "Nhap he so a: 4\n",
      "Nhap he so b: 5\n"
     ]
    },
    {
     "name": "stdout",
     "output_type": "stream",
     "text": [
      "Phuong trinh co nghiem x= -1.25\n"
     ]
    }
   ],
   "source": [
    "#Bai4\n",
    "a=float(input(\"Nhap he so a:\"))\n",
    "b=float(input(\"Nhap he so b:\"))\n",
    "if a == 0:\n",
    "    if b != 0:\n",
    "        print(\"Phuong trinh vo nghiem\")\n",
    "    else:\n",
    "        print(\"Phuong trinh vo so nghiem\")\n",
    "else:\n",
    "    x = -b/a\n",
    "    print(\"Phuong trinh co nghiem x=\",round(x,2))\n",
    "\n"
   ]
  },
  {
   "cell_type": "code",
   "execution_count": 14,
   "id": "cee4bae5-cf7d-4e73-8b5f-aa0b67baa3a5",
   "metadata": {},
   "outputs": [
    {
     "name": "stdin",
     "output_type": "stream",
     "text": [
      "Hay nhap he so a,b,c: 3 4 5\n"
     ]
    },
    {
     "name": "stdout",
     "output_type": "stream",
     "text": [
      "Phuong trinh vo nghiem\n"
     ]
    }
   ],
   "source": [
    "#Bai5\n",
    "import math\n",
    "a,b,c=map(float,input(\"Hay nhap he so a,b,c:\").split())\n",
    "d = b*b - 4*a*c\n",
    "if a == 0:\n",
    "    if b == 0 and c != 0:\n",
    "        print(\"Phuong trinh vo nghiem\")\n",
    "    elif b == 0 and c == 0:\n",
    "        print(\"Phuong trinh vo so nghiem\")\n",
    "    else:\n",
    "        x= -c/b\n",
    "        print(\"Phuong trinh co nghiem x=\")\n",
    "if a != 0:\n",
    "    if d > 0:\n",
    "        x1=(-b + math.sqrt(d)) / 2*a\n",
    "        x2=(-b - math.sqrt(d)) / 2*a\n",
    "        print(\"Nghiem cua phuong trinh la x1=\",round(x1,2))\n",
    "        print(\"Nghiem cua phuong trinh la x2=\",round(x2,2))\n",
    "    elif d == 0:\n",
    "        x = -b/2*a\n",
    "        print(\"Phuong trinh co nghiem duy nhat la x=\")\n",
    "    elif d < 0:\n",
    "        print(\"Phuong trinh vo nghiem\")\n",
    "    \n"
   ]
  },
  {
   "cell_type": "code",
   "execution_count": 3,
   "id": "18e224cc-6877-4436-9c8e-5d7965da079e",
   "metadata": {},
   "outputs": [
    {
     "name": "stdin",
     "output_type": "stream",
     "text": [
      "Hay nhap 4 so bat ky: 9 8 7 6\n"
     ]
    },
    {
     "name": "stdout",
     "output_type": "stream",
     "text": [
      "So lon nhat la: 9.0\n"
     ]
    }
   ],
   "source": [
    "#Bai6\n",
    "a,b,c,d=map(float,input(\"Hay nhap 4 so bat ky:\").split())\n",
    "max_val=a\n",
    "if b > a:\n",
    "    max_val = b\n",
    "if c > b:\n",
    "    max_val = c\n",
    "if d > c:\n",
    "    max_val = d\n",
    "print(\"So lon nhat la:\",round(max_val,0))"
   ]
  },
  {
   "cell_type": "code",
   "execution_count": 4,
   "id": "d19a37a6-97ec-459d-b48d-e0ca9a7b370a",
   "metadata": {},
   "outputs": [
    {
     "name": "stdin",
     "output_type": "stream",
     "text": [
      "Hay nhap vao 4 so bat ky: 1 2 3 4\n"
     ]
    },
    {
     "name": "stdout",
     "output_type": "stream",
     "text": [
      "So nho nhat la: 1.0\n"
     ]
    }
   ],
   "source": [
    "#Bai7\n",
    "a,b,c,d=map(float,input(\"Hay nhap vao 4 so bat ky:\").split())\n",
    "min_val=a\n",
    "if b < a:\n",
    "    min_val=b\n",
    "if c < b:\n",
    "    min_val=c\n",
    "if d < c:\n",
    "    min_val=d\n",
    "print(\"So nho nhat la:\",min_val)"
   ]
  },
  {
   "cell_type": "code",
   "execution_count": null,
   "id": "fdfb943e-64f5-4318-bfeb-8f949061cc81",
   "metadata": {},
   "outputs": [],
   "source": [
    "#Bai8"
   ]
  },
  {
   "cell_type": "code",
   "execution_count": 7,
   "id": "e3868fb1-e9f4-432a-8c7a-c1451a711e8b",
   "metadata": {},
   "outputs": [
    {
     "name": "stdin",
     "output_type": "stream",
     "text": [
      "Hay nhap so giay: 6500\n"
     ]
    },
    {
     "name": "stdout",
     "output_type": "stream",
     "text": [
      "1.81 gio\n",
      "108.33 phut\n",
      "6500.0 giay\n"
     ]
    }
   ],
   "source": [
    "#Bai9\n",
    "x=float(input(\"Hay nhap so giay:\"))\n",
    "so_gio= x / 3600\n",
    "so_phut= x / 60\n",
    "so_giay= x\n",
    "print(round(so_gio,2),\"gio\")\n",
    "print(round(so_phut,2),\"phut\")\n",
    "print(so_giay,\"giay\")\n",
    "\n"
   ]
  },
  {
   "cell_type": "code",
   "execution_count": null,
   "id": "497d41c1-ae64-4c86-a284-371d996a77fe",
   "metadata": {},
   "outputs": [],
   "source": []
  },
  {
   "cell_type": "code",
   "execution_count": null,
   "id": "6afaf3eb-09aa-4854-9e13-a3be0501deaf",
   "metadata": {},
   "outputs": [],
   "source": []
  }
 ],
 "metadata": {
  "kernelspec": {
   "display_name": "Python [conda env:base] *",
   "language": "python",
   "name": "conda-base-py"
  },
  "language_info": {
   "codemirror_mode": {
    "name": "ipython",
    "version": 3
   },
   "file_extension": ".py",
   "mimetype": "text/x-python",
   "name": "python",
   "nbconvert_exporter": "python",
   "pygments_lexer": "ipython3",
   "version": "3.13.5"
  }
 },
 "nbformat": 4,
 "nbformat_minor": 5
}
