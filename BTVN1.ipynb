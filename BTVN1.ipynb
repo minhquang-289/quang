{
 "cells": [
  {
   "cell_type": "code",
   "execution_count": 1,
   "id": "6a37af60-c46f-45b6-a50b-f542936c7950",
   "metadata": {},
   "outputs": [
    {
     "name": "stdin",
     "output_type": "stream",
     "text": [
      " 3\n"
     ]
    },
    {
     "name": "stdout",
     "output_type": "stream",
     "text": [
      "6\n"
     ]
    }
   ],
   "source": [
    "#HW1\n",
    "a=int(input())\n",
    "so_nguyen=2*a\n",
    "print(so_nguyen)\n"
   ]
  },
  {
   "cell_type": "code",
   "execution_count": 1,
   "id": "02faa4ea-f6d4-46ff-86dc-5b4cbd66e3d8",
   "metadata": {},
   "outputs": [
    {
     "name": "stdin",
     "output_type": "stream",
     "text": [
      " 3 4\n"
     ]
    },
    {
     "name": "stdout",
     "output_type": "stream",
     "text": [
      "4.93\n"
     ]
    }
   ],
   "source": [
    "#HW2\n",
    "a,b=map(float,input().split())\n",
    "dien_tich=a*b-(a/2)*(a/2)*3.14\n",
    "dien_tich =round(dien_tich,2)\n",
    "print(dien_tich)"
   ]
  },
  {
   "cell_type": "code",
   "execution_count": 9,
   "id": "9843ce8c-0026-46e6-b2f2-9248d5f21290",
   "metadata": {},
   "outputs": [
    {
     "name": "stdin",
     "output_type": "stream",
     "text": [
      "Hay nhap vao mot kitu: a\n"
     ]
    },
    {
     "name": "stdout",
     "output_type": "stream",
     "text": [
      "Chu hoa tuong ung la: A\n"
     ]
    }
   ],
   "source": [
    "#HW3\n",
    "n =input(\"Hay nhap vao mot kitu:\")\n",
    "if n>='A' and n<='Z':\n",
    "    n = chr(ord(n) + 32)\n",
    "    print(\"Chu thuong tuong ung la:\",n)\n",
    "elif n>='a' and n<='z':\n",
    "    n = chr(ord(n) - 32)\n",
    "    print(\"Chu hoa tuong ung la:\",n)\n",
    "else:\n",
    "    print(\"Du lieu khong hop le\")"
   ]
  },
  {
   "cell_type": "code",
   "execution_count": 13,
   "id": "6956c802-e128-4d28-ba61-7fc3061e7621",
   "metadata": {},
   "outputs": [
    {
     "name": "stdin",
     "output_type": "stream",
     "text": [
      "Hay nhap vao mot ki tu 8\n"
     ]
    },
    {
     "name": "stdout",
     "output_type": "stream",
     "text": [
      "{c}không phải là kí tự alphabet\n"
     ]
    }
   ],
   "source": [
    "#HW4\n",
    "c = input(\"Hay nhap vao mot ki tu\")\n",
    "if c>='A' and c<= 'Z':\n",
    "    print(\"{c} là kí tu alphabet\",c)\n",
    "elif c>='a' and c<='z':\n",
    "    print(\"{c} là kí tu alphabet\",c)\n",
    "else:\n",
    "    print(\"{c}không phải là kí tự alphabet\")"
   ]
  },
  {
   "cell_type": "code",
   "execution_count": 15,
   "id": "c5305004-ded5-47ba-b962-2a00621dbd82",
   "metadata": {},
   "outputs": [
    {
     "name": "stdin",
     "output_type": "stream",
     "text": [
      "Hay nhap vao mot ki tu: H\n"
     ]
    },
    {
     "name": "stdout",
     "output_type": "stream",
     "text": [
      "Chu cai do la: g\n"
     ]
    }
   ],
   "source": [
    "#HW5\n",
    "c=input(\"Hay nhap vao mot ki tu:\")\n",
    "if c>'A' and c<='Z':\n",
    "    n = chr(ord(c)+32)\n",
    "    a = ord(n)-1\n",
    "    print(\"Chu cai do la:\",chr(a))\n",
    "elif c == 'A':\n",
    "    print(\"Khong co chu cai nao\")\n",
    "else:\n",
    "    print(\"Du lieu khong hop le\")\n",
    "    \n",
    "    "
   ]
  },
  {
   "cell_type": "code",
   "execution_count": 22,
   "id": "fdae12e7-3690-47e8-ba8b-1e8ce4427051",
   "metadata": {},
   "outputs": [
    {
     "name": "stdin",
     "output_type": "stream",
     "text": [
      "Hay nhap vao ba so bat ky: 4 5 6\n"
     ]
    },
    {
     "name": "stdout",
     "output_type": "stream",
     "text": [
      "Dien tich cua tam giac la: 9.9\n"
     ]
    }
   ],
   "source": [
    "#HW6\n",
    "import math\n",
    "a,b,c = map(float,input(\"Hay nhap vao ba so bat ky:\").split())\n",
    "if a < b + c and b < a + c and c < a + b:\n",
    "    p = (a + b + c)/2\n",
    "    s = math.sqrt(p * (p-a) * (p-b) * (p-c))\n",
    "    print(\"Dien tich cua tam giac la:\",round(s,1))\n",
    "else:\n",
    "    print(\"Khong phai 3 canh cua tam giac\")"
   ]
  },
  {
   "cell_type": "code",
   "execution_count": 26,
   "id": "da56b3b3-3eca-4b69-bc78-d826a88c992e",
   "metadata": {},
   "outputs": [
    {
     "name": "stdin",
     "output_type": "stream",
     "text": [
      "Nhap vao mot chuoi cac chu cai thuong(=>20 chu cai): qwertyuiopasdfghjklz\n"
     ]
    },
    {
     "name": "stdout",
     "output_type": "stream",
     "text": [
      "Chu cai thu 5 la: t\n",
      "Chu cai thu 9 la: o\n"
     ]
    }
   ],
   "source": [
    "#HW7\n",
    "a = input(\"Nhap vao mot chuoi cac chu cai thuong(=>20 chu cai):\")\n",
    "if len(a) >= 20 and a.islower():\n",
    "   print(\"Chu cai thu 5 la:\", a[4])\n",
    "   print(\"Chu cai thu 9 la:\", a[8])\n",
    "else:\n",
    "   print(\"Du lieu khong hop le.Vui long nhap lai\")"
   ]
  },
  {
   "cell_type": "code",
   "execution_count": 27,
   "id": "2f452160-a039-4f7c-9b7a-92862dd3bd77",
   "metadata": {},
   "outputs": [
    {
     "name": "stdin",
     "output_type": "stream",
     "text": [
      "Ten chu ho:  Phan Minh Quang\n",
      "Chi so thang truoc:  298\n",
      "Chi so thang nay:  350\n"
     ]
    },
    {
     "name": "stdout",
     "output_type": "stream",
     "text": [
      "Ho va Ten: Phan Minh Quang\n",
      "Tien phai tra la: 111564\n"
     ]
    }
   ],
   "source": [
    "\n",
    "ten = input(\"Ten chu ho: \")\n",
    "chi_so_cu = int(input(\"Chi so thang truoc: \"))\n",
    "chi_so_moi = int(input(\"Chi so thang nay: \"))\n",
    "so_dien = chi_so_moi - chi_so_cu\n",
    "if so_dien < 0:\n",
    "    print(\"Chỉ số mới phải lớn hơn hoặc bằng chỉ số cũ.\")\n",
    "else:\n",
    "    if so_dien <= 50:\n",
    "        tien_dien = so_dien * 1984\n",
    "    elif so_dien <= 100:\n",
    "        tien_dien = 50 * 1984 + (so_dien - 50) * 2050\n",
    "    elif so_dien <= 200:\n",
    "        tien_dien = 50 * 1984 + 50 * 2050 + (so_dien - 100) * 2380\n",
    "    elif so_dien <= 300:\n",
    "        tien_dien = 50 * 1984 + 50 * 2050 + 100 * 2380 + (so_dien - 200) * 2998\n",
    "    elif so_dien <= 400:\n",
    "        tien_dien = (50 * 1984 + 50 * 2050 + 100 * 2380 +\n",
    "                     100 * 2998 + (so_dien - 300) * 3350)\n",
    "    else:\n",
    "        tien_dien = (50 * 1984 + 50 * 2050 + 100 * 2380 +\n",
    "                     100 * 2998 + 100 * 3350 + (so_dien - 400) * 3460)\n",
    "    vat = tien_dien * 0.08\n",
    "    tong_tien = round(tien_dien + vat)\n",
    "    print(\"Ho va Ten:\", ten)\n",
    "    print(\"Tien phai tra la:\", tong_tien)\n"
   ]
  },
  {
   "cell_type": "code",
   "execution_count": 2,
   "id": "a8177e63-b9af-4659-8d06-3a2cd89f365e",
   "metadata": {},
   "outputs": [
    {
     "name": "stdin",
     "output_type": "stream",
     "text": [
      "Hay nhap mot so: 4\n"
     ]
    },
    {
     "name": "stdout",
     "output_type": "stream",
     "text": [
      "La 1 so chan\n"
     ]
    }
   ],
   "source": [
    "#HW9\n",
    "a = int(input(\"Hay nhap mot so:\"))\n",
    "if a % 2 == 0:\n",
    "    print(\"La 1 so chan\")\n",
    "else:\n",
    "    print(\"La 1 so le\")\n",
    "    "
   ]
  },
  {
   "cell_type": "code",
   "execution_count": 3,
   "id": "9e723f11-b302-4857-b048-47c5c89cad80",
   "metadata": {},
   "outputs": [
    {
     "name": "stdin",
     "output_type": "stream",
     "text": [
      "Hay nhap mot so bat ky: 25\n"
     ]
    },
    {
     "name": "stdout",
     "output_type": "stream",
     "text": [
      "True\n"
     ]
    }
   ],
   "source": [
    "#HW10\n",
    "a = int(input(\"Hay nhap mot so bat ky:\"))\n",
    "if a % 10 == 5:\n",
    "    print(True)\n",
    "else:\n",
    "    print(False)"
   ]
  },
  {
   "cell_type": "code",
   "execution_count": 4,
   "id": "4739a083-16b4-4adc-a074-b101f475afae",
   "metadata": {},
   "outputs": [
    {
     "name": "stdin",
     "output_type": "stream",
     "text": [
      "Hay nhap mot so bat ky: 45\n"
     ]
    },
    {
     "name": "stdout",
     "output_type": "stream",
     "text": [
      "True\n"
     ]
    }
   ],
   "source": [
    "#HW11\n",
    "a = int(input(\"Hay nhap mot so bat ky:\"))\n",
    "if a % 15 == 0:\n",
    "    print(True)\n",
    "else:\n",
    "    print(False)"
   ]
  },
  {
   "cell_type": "code",
   "execution_count": 5,
   "id": "4689b38e-2bdb-46dc-9d51-774153e5bedd",
   "metadata": {},
   "outputs": [
    {
     "name": "stdin",
     "output_type": "stream",
     "text": [
      "Hay nhap nam sinh cua ban: 2007\n"
     ]
    },
    {
     "name": "stdout",
     "output_type": "stream",
     "text": [
      "Duoc di bau cu\n"
     ]
    }
   ],
   "source": [
    "#HW12\n",
    "a = int(input(\"Hay nhap nam sinh cua ban:\"))\n",
    "if 2025 - a >= 18:\n",
    "    print(\"Duoc di bau cu\")\n",
    "else:\n",
    "    print(\"Khong duoc di bau cu\")"
   ]
  },
  {
   "cell_type": "code",
   "execution_count": 8,
   "id": "20e7bf75-8c30-4b18-a390-c9359048d8a4",
   "metadata": {},
   "outputs": [
    {
     "name": "stdin",
     "output_type": "stream",
     "text": [
      "Hay nhap hai so bat ky: 4 5\n"
     ]
    },
    {
     "name": "stdout",
     "output_type": "stream",
     "text": [
      "5\n"
     ]
    }
   ],
   "source": [
    "#HW13\n",
    "a,b=map(int,input(\"Hay nhap hai so bat ky:\").split())\n",
    "if a > b:\n",
    "    print(a)\n",
    "elif b > a:\n",
    "    print(b)\n",
    "else:\n",
    "    print(\"Hai so ban nhap bang nhau\")"
   ]
  },
  {
   "cell_type": "code",
   "execution_count": 9,
   "id": "1372e897-9ab9-45c6-bdb6-946e43bf474d",
   "metadata": {},
   "outputs": [
    {
     "name": "stdin",
     "output_type": "stream",
     "text": [
      "Hay nhap vao 1 ki tu e\n"
     ]
    },
    {
     "name": "stdout",
     "output_type": "stream",
     "text": [
      "Day la mot ki tu\n"
     ]
    }
   ],
   "source": [
    "#HW14\n",
    "char=input(\"Hay nhap vao 1 ki tu\")\n",
    "if char.isalpha:\n",
    "    print(\"Day la mot ki tu\")\n",
    "elif char.isdigit:\n",
    "    print(\"Day la mot so\")\n",
    "else:\n",
    "    print(\"Khong phai ki tu cung khong phai so\")\n",
    "    "
   ]
  },
  {
   "cell_type": "code",
   "execution_count": 11,
   "id": "58ea18a9-50e5-48a0-b74d-6f8fc6bbe7ea",
   "metadata": {},
   "outputs": [
    {
     "name": "stdin",
     "output_type": "stream",
     "text": [
      "Ban hay nhap diem (0-10) 9\n"
     ]
    },
    {
     "name": "stdout",
     "output_type": "stream",
     "text": [
      "Gioi\n"
     ]
    }
   ],
   "source": [
    "#HW15\n",
    "a=int(input(\"Ban hay nhap diem (0-10):\"))\n",
    "if a>=8:\n",
    "    print(\"Gioi\")\n",
    "elif a >= 6.5 and a < 8:\n",
    "    print(\"Kha\")\n",
    "elif a >= 5 and a < 6.5:\n",
    "    prit(\"Trung binh\")\n",
    "else:\n",
    "    print(\"Yeu\")"
   ]
  },
  {
   "cell_type": "code",
   "execution_count": 12,
   "id": "fe7b52a1-2649-4c81-be06-47fe723d0da7",
   "metadata": {},
   "outputs": [
    {
     "name": "stdin",
     "output_type": "stream",
     "text": [
      "Ban hay nhap mot nam bat ki: 2065\n"
     ]
    },
    {
     "name": "stdout",
     "output_type": "stream",
     "text": [
      "Nam nhuan\n"
     ]
    }
   ],
   "source": [
    "#HW16\n",
    "a = int(input(\"Ban hay nhap mot nam bat ki:\"))\n",
    "if a % 400 == 0 or a % 4 == 0:\n",
    "    print(\"Nam nhuan\")\n",
    "elif a % 100 != 0:\n",
    "    print(\"Nam nhuan\")\n",
    "else:\n",
    "    print(\"Khong la nam nhuan\")\n",
    "        "
   ]
  },
  {
   "cell_type": "code",
   "execution_count": 13,
   "id": "cd8730ac-e8e7-4828-9cef-b2f499093328",
   "metadata": {},
   "outputs": [
    {
     "name": "stdin",
     "output_type": "stream",
     "text": [
      "Nhap diem cua ban (0-10): 8\n"
     ]
    },
    {
     "name": "stdout",
     "output_type": "stream",
     "text": [
      "Qua mon\n"
     ]
    }
   ],
   "source": [
    "#HW17\n",
    "a = int(input(\"Nhap diem cua ban (0-10):\"))\n",
    "if a >= 4:\n",
    "    print(\"Qua mon\")\n",
    "else:\n",
    "    print(\"Hoc lai\")"
   ]
  },
  {
   "cell_type": "code",
   "execution_count": 14,
   "id": "e9660d0f-cb33-4a06-8c53-5c95c9cf82b1",
   "metadata": {},
   "outputs": [
    {
     "name": "stdin",
     "output_type": "stream",
     "text": [
      "Nhap nam sinh: 2007\n"
     ]
    },
    {
     "name": "stdout",
     "output_type": "stream",
     "text": [
      "So tuoi cua ban la: 18\n",
      "Da du 18 tuoi\n"
     ]
    }
   ],
   "source": [
    "#HW18\n",
    "a = int(input(\"Nhap nam sinh:\"))\n",
    "b = 2025 - a\n",
    "print(\"So tuoi cua ban la:\",b)\n",
    "if b >= 18:\n",
    "    print(\"Da du 18 tuoi\")\n",
    "else:\n",
    "    print(\"Chua du 18 tuoi\")"
   ]
  },
  {
   "cell_type": "code",
   "execution_count": null,
   "id": "0a11d512-0b3f-4c14-9a78-bdde66a66535",
   "metadata": {},
   "outputs": [],
   "source": []
  }
 ],
 "metadata": {
  "kernelspec": {
   "display_name": "Python [conda env:base] *",
   "language": "python",
   "name": "conda-base-py"
  },
  "language_info": {
   "codemirror_mode": {
    "name": "ipython",
    "version": 3
   },
   "file_extension": ".py",
   "mimetype": "text/x-python",
   "name": "python",
   "nbconvert_exporter": "python",
   "pygments_lexer": "ipython3",
   "version": "3.13.5"
  }
 },
 "nbformat": 4,
 "nbformat_minor": 5
}
